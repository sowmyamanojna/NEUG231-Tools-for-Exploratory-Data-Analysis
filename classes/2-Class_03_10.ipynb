{
 "cells": [
  {
   "cell_type": "markdown",
   "id": "0d514308",
   "metadata": {},
   "source": [
    "## While Loops"
   ]
  },
  {
   "cell_type": "code",
   "execution_count": 1,
   "id": "1ae0e420",
   "metadata": {},
   "outputs": [
    {
     "name": "stdout",
     "output_type": "stream",
     "text": [
      "10\n",
      "9\n",
      "8\n",
      "7\n",
      "6\n",
      "5\n",
      "4\n",
      "3\n",
      "2\n",
      "1\n",
      "0\n"
     ]
    }
   ],
   "source": [
    "number = 10\n",
    "while number >= 0:\n",
    "    print(number)\n",
    "    number -= 1"
   ]
  },
  {
   "cell_type": "markdown",
   "id": "d019f140",
   "metadata": {},
   "source": [
    "## Object types\n",
    "\n",
    "- Methods vs Functions\n",
    "- Containers\n",
    "    - Query what is inside them\n",
    "    - Lists\n",
    "- Collections\n",
    "    - Containers taken to the next level\n",
    "    - Iterable\n",
    "- Sequences\n",
    "    - Collections that have one further special property\n",
    "    - Has a deterministic order\n",
    "    - mutable and immutable sequences\n",
    "    - list, tuple, sets\n",
    "- Dictionaries\n",
    "    - mapping between keys and values"
   ]
  },
  {
   "cell_type": "code",
   "execution_count": 3,
   "id": "7a999e7c",
   "metadata": {},
   "outputs": [
    {
     "name": "stdout",
     "output_type": "stream",
     "text": [
      "abcde\n",
      "[0, 1, 1.4142135623730951]\n",
      "5\n",
      "3\n"
     ]
    }
   ],
   "source": [
    "alpha = \"abcde\"\n",
    "nums = [0, 1, 2**0.5]\n",
    "\n",
    "print(alpha)\n",
    "print(nums)\n",
    "print(len(alpha))\n",
    "print(len(nums))"
   ]
  },
  {
   "cell_type": "code",
   "execution_count": 7,
   "id": "748e320f",
   "metadata": {},
   "outputs": [
    {
     "data": {
      "text/plain": [
       "True"
      ]
     },
     "execution_count": 7,
     "metadata": {},
     "output_type": "execute_result"
    }
   ],
   "source": [
    "\"abc\" in alpha"
   ]
  },
  {
   "cell_type": "markdown",
   "id": "08482e28",
   "metadata": {},
   "source": [
    "## Indexing and Slicing"
   ]
  },
  {
   "cell_type": "code",
   "execution_count": 8,
   "id": "29e65a4e",
   "metadata": {},
   "outputs": [
    {
     "data": {
      "text/plain": [
       "[16, 14, 12, 10, 8, 6, 4, 2, 0]"
      ]
     },
     "execution_count": 8,
     "metadata": {},
     "output_type": "execute_result"
    }
   ],
   "source": [
    "nums = list(range(0, 18, 2))\n",
    "nums[::-1]"
   ]
  },
  {
   "cell_type": "markdown",
   "id": "eca13a34",
   "metadata": {},
   "source": [
    "## Concatenation"
   ]
  },
  {
   "cell_type": "code",
   "execution_count": 11,
   "id": "6fdf06ea",
   "metadata": {},
   "outputs": [
    {
     "data": {
      "text/plain": [
       "([1, 2, 3, 4], (1, 2, 3, 4))"
      ]
     },
     "execution_count": 11,
     "metadata": {},
     "output_type": "execute_result"
    }
   ],
   "source": [
    "[1, 2] + [3, 4], (1, 2) + (3, 4)"
   ]
  },
  {
   "cell_type": "markdown",
   "id": "9e3f9601",
   "metadata": {},
   "source": [
    "## f strings"
   ]
  },
  {
   "cell_type": "code",
   "execution_count": 12,
   "id": "24d6e7c5",
   "metadata": {},
   "outputs": [
    {
     "name": "stdout",
     "output_type": "stream",
     "text": [
      "daniella is 25 years old.\n"
     ]
    }
   ],
   "source": [
    "age = 25\n",
    "name = \"daniella\"\n",
    "print(f\"{name} is {age} years old.\")"
   ]
  },
  {
   "cell_type": "markdown",
   "id": "68262cb4",
   "metadata": {},
   "source": [
    "## Dictionaries"
   ]
  },
  {
   "cell_type": "code",
   "execution_count": null,
   "id": "e0c4e611",
   "metadata": {},
   "outputs": [],
   "source": []
  }
 ],
 "metadata": {
  "kernelspec": {
   "display_name": "Python 3 (ipykernel)",
   "language": "python",
   "name": "python3"
  },
  "language_info": {
   "codemirror_mode": {
    "name": "ipython",
    "version": 3
   },
   "file_extension": ".py",
   "mimetype": "text/x-python",
   "name": "python",
   "nbconvert_exporter": "python",
   "pygments_lexer": "ipython3",
   "version": "3.10.6"
  }
 },
 "nbformat": 4,
 "nbformat_minor": 5
}
