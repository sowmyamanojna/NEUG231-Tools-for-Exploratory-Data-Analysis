{
 "cells": [
  {
   "cell_type": "markdown",
   "id": "8bf31b98",
   "metadata": {},
   "source": [
    "## Part 1: Indexing\n",
    "\n",
    "* js (jserences@ucsd.edu) for NEUG/PSYC231 Fall 2022"
   ]
  },
  {
   "cell_type": "code",
   "execution_count": 1,
   "id": "8f1dfbb1",
   "metadata": {},
   "outputs": [],
   "source": [
    "# For Q0 & Q1, the following lists are provided for you\n",
    "list_1 = [10, 20, 30, 40]\n",
    "list_2 = [13, 15, 17, 19, 21, 23]\n",
    "list_3 = [1, 2, 3, 4, 5, 6, 7, 8, 9, 10, 11]\n",
    "list_4 = [21, 9, 98, 289, 938]"
   ]
  },
  {
   "cell_type": "markdown",
   "id": "34202ccc",
   "metadata": {},
   "source": [
    "### Q0 - Indexing\n",
    "\n",
    "Do the following *using indexing*:\n",
    "- Store the first value in `list_1` to `index_1`\n",
    "- Store the second value from the end of `list_2` to `index_2`\n",
    "- Store the first four values of `list_3` to `index_3`\n",
    "- Store the last four values of `list_4` to `index_4`\n",
    "\n",
    "Note: Values must be stored in the same order they appear in the original list in your output."
   ]
  },
  {
   "cell_type": "code",
   "execution_count": 2,
   "id": "fbc1fa29",
   "metadata": {},
   "outputs": [
    {
     "name": "stdout",
     "output_type": "stream",
     "text": [
      "Index 1: 10\n",
      "Index 2: 21\n",
      "Index 3: [1, 2, 3, 4]\n",
      "Index 4: [9, 98, 289, 938]\n"
     ]
    }
   ],
   "source": [
    "# your answer here\n",
    "index_1 = list_1[0]\n",
    "index_2 = list_2[-2]\n",
    "index_3 = list_3[:4]\n",
    "index_4 = list_4[-4:]\n",
    "\n",
    "print(\"Index 1:\", index_1)\n",
    "print(\"Index 2:\", index_2)\n",
    "print(\"Index 3:\", index_3)\n",
    "print(\"Index 4:\", index_4)"
   ]
  },
  {
   "cell_type": "markdown",
   "id": "5bb500e9",
   "metadata": {},
   "source": [
    "### Q1 - Comparisons using Indexing\n",
    "\n",
    "Do the following comparisons *using indexing*:\n",
    "\n",
    "- Check if the second value of `list_1` is one of the last three values in `list_3` (Hint: remember operator `in`)\n",
    "    - Store the result in `comp_result_1`\n",
    "\n",
    "\n",
    "- Check if the third value of `list_4` is greater than the fourth value in `list_4`\n",
    "    - Store the result in `comp_result_2`\n",
    "\n",
    "\n",
    "- Check if the last value of `list_4` is less than the second value in `list_4`\n",
    "    - Store the result in `comp_result_3`\n",
    "\n",
    "\n",
    "- Check if the second value of `list_2` multiplied by the fifth value of `list_3` is less than the second to last value in `list_4`\n",
    "    - Store the result in `comp_result_4`\n",
    "\n",
    "Keep in mind that you are storing the result of a comparison to a variable, so resulting variables should all be booleans."
   ]
  },
  {
   "cell_type": "code",
   "execution_count": 3,
   "id": "dd5b920e",
   "metadata": {},
   "outputs": [
    {
     "name": "stdout",
     "output_type": "stream",
     "text": [
      "comp_result_1: False\n",
      "comp_result_2: False\n",
      "comp_result_3: False\n",
      "comp_result_4: True\n"
     ]
    }
   ],
   "source": [
    "#your answer here\n",
    "comp_result_1 = list_1[1] in list_3[-3:]\n",
    "comp_result_2 = list_4[2] > list_4[3]\n",
    "comp_result_3 = list_4[-1] < list_4[1]\n",
    "comp_result_4 = (list_2[1]*list_3[4]) < list_4[-2]\n",
    "\n",
    "print(\"comp_result_1:\", comp_result_1)\n",
    "print(\"comp_result_2:\", comp_result_2)\n",
    "print(\"comp_result_3:\", comp_result_3)\n",
    "print(\"comp_result_4:\", comp_result_4)"
   ]
  },
  {
   "cell_type": "markdown",
   "id": "5d402987",
   "metadata": {},
   "source": [
    "\n",
    "### Q2 - Counting things with dictionaries.\n",
    "\n",
    "Build a dictionary called `word_count` that represents the number of times each word occurred in the list called `word_list` via a for loop.  Note that some of the items in word_list are not words, they are empty strings, so you need to check to see if they 'exist' first before filling up your dictionary! To do this you can use the `not` operator and you can check to see if a word is already in the dictionary using `not in` (there are likely other ways to do this...just some hints!)"
   ]
  },
  {
   "cell_type": "code",
   "execution_count": 4,
   "id": "729c7096",
   "metadata": {},
   "outputs": [],
   "source": [
    "word_list = ['whose', 'woods', 'these', 'are', 'i', 'think', 'i', 'know', 'his', 'house', 'is', 'in', 'the', 'village', 'though', 'he', 'will', 'not', 'see', 'me', 'stopping', 'here', 'to', 'watch', 'his', 'woods', 'fill', 'up', 'with', 'snow', '', 'my', 'little', 'horse', 'must', 'think', 'it', 'queer', 'to', 'stop', 'without', 'a', 'farmhouse', 'near', 'between', 'the', 'woods', 'and', 'frozen', 'lake', 'the', 'darkest', 'evening', 'of', 'the', 'year', '', 'he', 'gives', 'his', 'harness', 'bells', 'a', 'shake', 'to', 'ask', 'if', 'there', 'is', 'some', 'mistake', 'the', 'only', 'other', 'sounds', 'the', 'sweep', 'of', 'easy', 'wind', 'and', 'downy', 'flake', '', 'the', 'woods', 'are', 'lovely', 'dark', 'and', 'deep', 'but', 'i', 'have', 'promises', 'to', 'keep', 'and', 'miles', 'to', 'go', 'before', 'i', 'sleep', 'and', 'miles', 'to', 'go', 'before', 'i', 'sleep']"
   ]
  },
  {
   "cell_type": "code",
   "execution_count": 5,
   "id": "12499ee2",
   "metadata": {},
   "outputs": [],
   "source": [
    "# your answer here\n",
    "word_count = {}\n",
    "for i in word_list:\n",
    "    if i:\n",
    "        if i in word_count:\n",
    "            word_count[i] += 1\n",
    "        else:\n",
    "            word_count[i] = 1"
   ]
  },
  {
   "cell_type": "markdown",
   "id": "45b90e36",
   "metadata": {},
   "source": [
    "### Q3 - most common words\n",
    "\n",
    "In Q2 you made a dictionary of word counts (called `word_count`).  Here, please find the most common word in that dictionary, and store it in the variable called `most_common`.  Do not hard-code the answer!  Your code should get the correct answer even if the contents of `word_count` were different."
   ]
  },
  {
   "cell_type": "code",
   "execution_count": 6,
   "id": "f1457036",
   "metadata": {},
   "outputs": [
    {
     "name": "stdout",
     "output_type": "stream",
     "text": [
      "['the']\n"
     ]
    }
   ],
   "source": [
    "# your answer here\n",
    "max_val = 0\n",
    "most_common = []\n",
    "for i in word_count:\n",
    "    if word_count[i] > max_val:\n",
    "        most_common = [i]\n",
    "        max_val = word_count[i]\n",
    "    elif word_count[i] == max_val:\n",
    "        most_common.append(i)\n",
    "        \n",
    "print(most_common)"
   ]
  },
  {
   "cell_type": "markdown",
   "id": "f875d0ef",
   "metadata": {},
   "source": [
    "### Q4 - Import numpy, then make an array of the first 12 even numbers with shape (2, 6). Print the resulting array following each step below. Use np.arange to make the sequence...\n",
    "\n",
    "* Make every other value of the second row odd by subtracting 1 from it.\n",
    "* Reverse the entries (columns) in the first row.\n",
    "* Make the last value of the entire array the sum of all the other numbers beside the last value.\n",
    "* Normalize the first row to have unit area (area of 1) by dividing each number by the sum of the first row and then overwriting the original contents of the first row with the normalized values. \n",
    "    * Did it work? or did you get a row of 0's after you normalized?\n",
    "    * If you got a row of zeros, how would you change your original input parameters to np.arange in part 1 to make it work? think about the properties of different numerical data types..."
   ]
  },
  {
   "cell_type": "code",
   "execution_count": 7,
   "id": "4c0a6202",
   "metadata": {},
   "outputs": [
    {
     "name": "stdout",
     "output_type": "stream",
     "text": [
      "[[ 2  4  6  8 10 12]\n",
      " [14 16 18 20 22 24]]\n",
      "[[ 2  4  6  8 10 12]\n",
      " [13 16 17 20 21 24]]\n",
      "[[12 10  8  6  4  2]\n",
      " [13 16 17 20 21 24]]\n",
      "[[ 0.28571429  0.23809524  0.19047619  0.14285714  0.0952381   0.04761905]\n",
      " [13.         16.         17.         20.         21.         24.        ]]\n"
     ]
    }
   ],
   "source": [
    "# your answer here\n",
    "# your answer here\n",
    "import numpy as np\n",
    "a = np.arange(2, 25, 2).reshape(2, 6)\n",
    "print(a)\n",
    "\n",
    "a[1, ::2] -= 1\n",
    "print(a)\n",
    "\n",
    "a[0, :] = a[0, ::-1]\n",
    "print(a)\n",
    "\n",
    "a = a.astype(float)\n",
    "a[0, :] = (a[0, :]/np.sum(a[0, :]))\n",
    "print(a)"
   ]
  },
  {
   "cell_type": "code",
   "execution_count": null,
   "id": "568629b2",
   "metadata": {},
   "outputs": [],
   "source": []
  }
 ],
 "metadata": {
  "kernelspec": {
   "display_name": "Python 3 (ipykernel)",
   "language": "python",
   "name": "python3"
  },
  "language_info": {
   "codemirror_mode": {
    "name": "ipython",
    "version": 3
   },
   "file_extension": ".py",
   "mimetype": "text/x-python",
   "name": "python",
   "nbconvert_exporter": "python",
   "pygments_lexer": "ipython3",
   "version": "3.10.6"
  }
 },
 "nbformat": 4,
 "nbformat_minor": 5
}
