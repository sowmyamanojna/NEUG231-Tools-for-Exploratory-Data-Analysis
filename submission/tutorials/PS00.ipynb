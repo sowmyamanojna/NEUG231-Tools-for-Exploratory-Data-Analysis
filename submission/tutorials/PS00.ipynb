{
 "cells": [
  {
   "cell_type": "markdown",
   "id": "de3f7c37",
   "metadata": {},
   "source": [
    "# Problem set 00\n",
    "* Markdown, basic syntax, control flow, looping\n",
    "* js (jserences@ucsd.edu), Fall 2022 for NEUG/PSYC 231"
   ]
  },
  {
   "cell_type": "markdown",
   "id": "4bfa5e58",
   "metadata": {},
   "source": [
    "### 0: Markdown cells\n",
    "\n",
    "- Convert the cell immediately below this one from a code cell to a markdown cell.\n",
    "- Write a Level 3 heading with your name.\n",
    "- Below that create a bulleted list that states your grad program (or major), your favorite food, and a hobby.\n",
    "- Finally, write out the sentence: “I can learn to code and I will be excellent at it!” with the following formatting:\n",
    "     - the word “can” should be in bold\n",
    "     - the word \"excellent\" should be in italics\n",
    "     - the word \"code\" should be a link to `https://www.python.org`"
   ]
  },
  {
   "cell_type": "markdown",
   "id": "4fe9b8dc",
   "metadata": {},
   "source": [
    "### Sowmya Manojna Narasimha\n",
    "\n",
    "- Neuroscience Graduate Program\n",
    "- Chana Masala\n",
    "- Carnatic Music\n",
    "\n",
    "I **can** learn to [code](https://www.python.org) and I will be *excellent* at it!"
   ]
  },
  {
   "cell_type": "markdown",
   "id": "d324c050",
   "metadata": {},
   "source": [
    "### 1: Variables and Arithmetic\n",
    "\n",
    "In the cell below,\n",
    "- assign `4` to the integer variable `x`,\n",
    "- assign the square root of 3 to the variable `y` (remember taking the square root is the same as raising to the power of 1/2: $\\sqrt{a}=a^{0.5}$)\n",
    "- assign the sum of `x` and `y` to the variable `xy_sum`\n",
    "- assign the product of `x` and `y` to the variable `xy_prod`\n",
    "- and then confirm that this was successful by checking the type using both the `type` function and the `isinstance` function\n",
    "- convert `xy_prod` to an `int` using typecasting...what happens to the value? (i.e. what information do you lose?) "
   ]
  },
  {
   "cell_type": "code",
   "execution_count": 1,
   "id": "3788125a",
   "metadata": {},
   "outputs": [],
   "source": [
    "# your answer here\n",
    "x = 4\n",
    "y = 3**0.5\n",
    "xy_sum = x+y\n",
    "xy_prod = x*y\n",
    "xy_prod = int(xy_prod)"
   ]
  },
  {
   "cell_type": "markdown",
   "id": "76a98093",
   "metadata": {},
   "source": [
    "### 2: types and operators\n",
    "\n",
    "The variables `x` and `y` are set for you in the next cell - do not modify them but run that cell.\n",
    "Then use only the variables `x` and `y`, the functions `int()`, `str()` and the operators `+` and `*` to make the following variables have these types and values:\n",
    "- `A` (float) 8.0\n",
    "- `B` (int) 15\n",
    "- `C` (str) 33333\n",
    "- `D` (str) 53\n",
    "- `E` (int) 33"
   ]
  },
  {
   "cell_type": "code",
   "execution_count": 2,
   "id": "edb6df3d",
   "metadata": {},
   "outputs": [],
   "source": [
    "x = '3'\n",
    "y = 5.0"
   ]
  },
  {
   "cell_type": "code",
   "execution_count": 5,
   "id": "86f77825",
   "metadata": {},
   "outputs": [
    {
     "data": {
      "text/plain": [
       "33"
      ]
     },
     "execution_count": 5,
     "metadata": {},
     "output_type": "execute_result"
    }
   ],
   "source": [
    "# your answer here\n",
    "A = float(x) + y\n",
    "B = int(x) * int(y)\n",
    "C = A * int(B)\n",
    "D = str(B) + str(A)\n",
    "E = int(x+x)\n",
    "\n",
    "print(\"A: \", A, \"of type:\", typeof(A))\n",
    "print(\"B: \", B, \"of type:\", typeof(B))\n",
    "print(\"C: \", C, \"of type:\", typeof(C))\n",
    "print(\"D: \", D, \"of type:\", typeof(D))\n",
    "print(\"E: \", E, \"of type:\", typeof(E))"
   ]
  },
  {
   "cell_type": "markdown",
   "id": "e581636e",
   "metadata": {},
   "source": [
    "### 3: filter list\n",
    "\n",
    "- make a list `multiples_of_2_or_3` which contains all the numbers between 1 and 100 that are either multiples of 2 or multiples of 3 using a combination of a `for` loop with a `if` conditional inside the loop.\n",
    "- start by initializing an empty list, then fill it up in the loop using the `append` method of a list\n",
    "- To figure out if a number is evenly divisible by 2 or 3 use the `%` (mod) operator. The `%` operator returns the remainder after division, and if a number is evenly divisible by 2 (for example) then the result of that number `%` 2 will be 0!"
   ]
  },
  {
   "cell_type": "code",
   "execution_count": 8,
   "id": "eae03a5b",
   "metadata": {},
   "outputs": [
    {
     "name": "stdout",
     "output_type": "stream",
     "text": [
      "[0, 2, 3, 4, 6, 8, 9, 10, 12, 14, 15, 16, 18, 20, 21, 22, 24, 26, 27, 28, 30, 32, 33, 34, 36, 38, 39, 40, 42, 44, 45, 46, 48, 50, 51, 52, 54, 56, 57, 58, 60, 62, 63, 64, 66, 68, 69, 70, 72, 74, 75, 76, 78, 80, 81, 82, 84, 86, 87, 88, 90, 92, 93, 94, 96, 98, 99]\n"
     ]
    }
   ],
   "source": [
    "# your answer here\n",
    "a = []\n",
    "for i in range(100):\n",
    "    if i%2 == 0 or i%3 == 0:\n",
    "        a.append(i)\n",
    "        \n",
    "print(a)"
   ]
  },
  {
   "cell_type": "markdown",
   "id": "2983546b",
   "metadata": {},
   "source": [
    "### 4 FizzBuzz list\n",
    "\n",
    "FizzBuzz is a canonical programming challenge involving looping, conditionals, and comparisons.  The goal is to implement the kids' game [\"Fizz Buzz\"](https://en.wikipedia.org/wiki/Fizz_buzz):  Count up from 1.  For each number, if it is divisible by 3 say \"Fizz\", if it is divisible by 5 say \"Buzz\", (thus say \"FizzBuzz\" for numbers divisible by 15).  For all other numbers, just say that number.\n",
    "\n",
    "Use a `for` loop, `if..elif...else` statements, to build a list variable with the name `fizzbuzz`.\n",
    "- the list should contain the numbers 1 through 100, in order except:\n",
    "- any number that is a multiple of 3 should be replaced with the string \"Fizz\"\n",
    "- any number that is a multiple of 5 should be replaced with the string \"Buzz\"\n",
    "- any number that is a multiple of 3 and 5 (i.e. a multiple of 15) should be replaced with \"FizzBuzz\"\n",
    "\n",
    "Here is a table of sample output (only going up to the number 16):\n",
    "\n",
    "| **n** | **result** |\n",
    "| ------|-----------|\n",
    "| 1 | 1 | \n",
    "| 2 | 2 |\n",
    "| 3 | \"Fizz\" |\n",
    "| 4 | 4 |\n",
    "| 5 | \"Buzz\" |\n",
    "| 6 | \"Fizz\" | \n",
    "| 7 | 7 | \n",
    "| ... | ... | \n",
    "| 14 | 14 | \n",
    "| 15 | \"FizzBuzz\" |\n",
    "| 16 | 16 |  "
   ]
  },
  {
   "cell_type": "code",
   "execution_count": 12,
   "id": "d452184f",
   "metadata": {},
   "outputs": [
    {
     "name": "stdout",
     "output_type": "stream",
     "text": [
      "1\n",
      "2\n",
      "Fizz\n",
      "4\n",
      "Buzz\n",
      "Fizz\n",
      "7\n",
      "8\n",
      "Fizz\n",
      "Buzz\n",
      "11\n",
      "Fizz\n",
      "13\n",
      "14\n",
      "FizzBuzz\n",
      "16\n",
      "17\n",
      "Fizz\n",
      "19\n",
      "Buzz\n",
      "Fizz\n",
      "22\n",
      "23\n",
      "Fizz\n",
      "Buzz\n",
      "26\n",
      "Fizz\n",
      "28\n",
      "29\n",
      "FizzBuzz\n"
     ]
    }
   ],
   "source": [
    "# your answer here\n",
    "b = []\n",
    "for i in range(1, 101):\n",
    "    if i%15 == 0:\n",
    "        b.append(\"FizzBuzz\")\n",
    "    elif i%3 == 0:\n",
    "        b.append(\"Fizz\")\n",
    "    elif i%5 == 0:\n",
    "        b.append(\"Buzz\")\n",
    "    else:\n",
    "        b.append(i)\n",
    "        \n",
    "for i in b[:30]:\n",
    "    print(i)"
   ]
  },
  {
   "cell_type": "markdown",
   "id": "01321065",
   "metadata": {},
   "source": [
    "### Challenge question: \n",
    "\n",
    "It is possible to solve the FizzBuzz challenge by writing a function which uses no conditional logic at all, but which uses math to separate integers into 4 possible categories: \n",
    "\n",
    "    Those which have 3 as a factor, but not 5\n",
    "    Those which have 5 as a factor, but not 3\n",
    "    Those which have both 3 and 5 as a factor\n",
    "    Those which have neither 3 nor 5 as factors\n",
    "\n",
    "(Note - I just ran across this today, and it seems kind of fun, but challenging!)\n",
    "\n",
    "[explanation here](http://philcrissman.net/posts/eulers-fizzbuzz/)\n"
   ]
  },
  {
   "cell_type": "code",
   "execution_count": 13,
   "id": "914c9d5c",
   "metadata": {},
   "outputs": [
    {
     "data": {
      "text/plain": [
       "8.0"
      ]
     },
     "execution_count": 13,
     "metadata": {},
     "output_type": "execute_result"
    }
   ],
   "source": [
    "# your answer here\n",
    "120/15"
   ]
  },
  {
   "cell_type": "code",
   "execution_count": 14,
   "id": "ee784bd0",
   "metadata": {},
   "outputs": [
    {
     "data": {
      "text/plain": [
       "9"
      ]
     },
     "execution_count": 14,
     "metadata": {},
     "output_type": "execute_result"
    }
   ],
   "source": [
    "729%15"
   ]
  },
  {
   "cell_type": "code",
   "execution_count": null,
   "id": "f503ee0a",
   "metadata": {},
   "outputs": [],
   "source": []
  }
 ],
 "metadata": {
  "kernelspec": {
   "display_name": "Python 3 (ipykernel)",
   "language": "python",
   "name": "python3"
  },
  "language_info": {
   "codemirror_mode": {
    "name": "ipython",
    "version": 3
   },
   "file_extension": ".py",
   "mimetype": "text/x-python",
   "name": "python",
   "nbconvert_exporter": "python",
   "pygments_lexer": "ipython3",
   "version": "3.10.6"
  }
 },
 "nbformat": 4,
 "nbformat_minor": 5
}
